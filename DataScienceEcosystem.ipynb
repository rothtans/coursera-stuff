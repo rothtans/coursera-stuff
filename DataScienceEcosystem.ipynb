{
 "cells": [
  {
   "cell_type": "markdown",
   "metadata": {},
   "source": [
    "<center>\n",
    "    <img src=\"https://cf-courses-data.s3.us.cloud-object-storage.appdomain.cloud/IBMDeveloperSkillsNetwork-DS0105EN-SkillsNetwork/labs/Module2/images/SN_web_lightmode.png\" width=\"300\" alt=\"cognitiveclass.ai logo\">\n",
    "</center>\n"
   ]
  },
  {
   "cell_type": "markdown",
   "metadata": {},
   "source": [
    "#### Add your code below following the instructions given in the course\n"
   ]
  },
  {
   "cell_type": "markdown",
   "metadata": {},
   "source": [
    "# Data Science Tools and Ecosystems"
   ]
  },
  {
   "cell_type": "markdown",
   "metadata": {},
   "source": [
    "In this notebook, data science tools used to describe ecosystems are described. "
   ]
  },
  {
   "cell_type": "markdown",
   "metadata": {},
   "source": [
    "Some of the most popular laguages used by data scientists include:\n",
    "1. Python\n",
    "2. C++\n",
    "3. Java\n",
    "4. JavaScript\n",
    "5. Julia\n",
    "6. R\n",
    "7. Scala\n",
    "8. Weka\n",
    "   "
   ]
  },
  {
   "cell_type": "markdown",
   "metadata": {},
   "source": [
    "Some of the most commonly used libraries for data scientists include: "
   ]
  },
  {
   "cell_type": "markdown",
   "metadata": {},
   "source": [
    "With Python (packages): \n",
    "1. NumPy\n",
    "2. Pandas\n",
    "3. SciPy\n",
    "5. Matplotlib\n",
    "6. TensorFlow-Lattice\n",
    "7. Scikit-learn\n",
    "8. Natural Language Toolkit (NLTK)\n",
    "\n",
    "With R:\n",
    "1. ggplot2\n",
    "2. Plotly\n",
    "\n",
    "With JavaScript:\n",
    "1. Leaflet"
   ]
  },
  {
   "cell_type": "markdown",
   "metadata": {},
   "source": [
    "Development environments:\n",
    "\n",
    "|Data Science Tools|\n",
    "|-----------------|\n",
    "|Watson Studio\n",
    "| Spyder |\n",
    "| Jupyter Notebooks / Jupyter Labs |\n",
    "| R Studio |"
   ]
  },
  {
   "cell_type": "markdown",
   "metadata": {},
   "source": [
    "### Below are a few arithmatic expressions evaluated in this notebook: "
   ]
  },
  {
   "cell_type": "code",
   "execution_count": 3,
   "metadata": {},
   "outputs": [
    {
     "data": {
      "text/plain": [
       "21"
      ]
     },
     "execution_count": 3,
     "metadata": {},
     "output_type": "execute_result"
    }
   ],
   "source": [
    "(3+4)*3"
   ]
  },
  {
   "cell_type": "code",
   "execution_count": 7,
   "metadata": {},
   "outputs": [
    {
     "name": "stdout",
     "output_type": "stream",
     "text": [
      "1.0\n"
     ]
    }
   ],
   "source": [
    "x=2\n",
    "y=1/2\n",
    "el=x*y\n",
    "print(el)"
   ]
  },
  {
   "cell_type": "code",
   "execution_count": 11,
   "metadata": {},
   "outputs": [
    {
     "data": {
      "text/plain": [
       "17"
      ]
     },
     "execution_count": 11,
     "metadata": {},
     "output_type": "execute_result"
    }
   ],
   "source": [
    "#This is a simple arithmetic expression to multiply then add integers\n",
    "(3*4)+5"
   ]
  },
  {
   "cell_type": "code",
   "execution_count": 19,
   "metadata": {},
   "outputs": [
    {
     "name": "stdout",
     "output_type": "stream",
     "text": [
      "3\n",
      "20\n",
      "200 minutes is 3 hours and 20 minutes or 3.3 hours.\n"
     ]
    }
   ],
   "source": [
    "#Convert 200min into hours\n",
    "#Time can be replaced in \"totalminutes\" to convert a different time\n",
    "totalminutes=200\n",
    "base=round(totalminutes/60)\n",
    "base2=round(totalminutes/60,1)\n",
    "print(base)\n",
    "rest=200%60\n",
    "print(rest)\n",
    "print(str(totalminutes)+\" minutes is \"+str(base)+\" hours and \"+str(rest)+\" minutes or \"+str(base2)+\" hours.\")"
   ]
  },
  {
   "cell_type": "markdown",
   "metadata": {},
   "source": [
    "**Objectives:** (some of the objectives for this Notebook)\n",
    " - List common data science languages\n",
    " - Make a table of common data science development environments\n",
    " - Show simple arithmetic in this Jupyter Notebook"
   ]
  },
  {
   "cell_type": "markdown",
   "metadata": {},
   "source": [
    "## Author\n",
    "SL Rothwell"
   ]
  },
  {
   "cell_type": "code",
   "execution_count": null,
   "metadata": {},
   "outputs": [],
   "source": []
  }
 ],
 "metadata": {
  "kernelspec": {
   "display_name": "Python 3 (ipykernel)",
   "language": "python",
   "name": "python3"
  },
  "language_info": {
   "codemirror_mode": {
    "name": "ipython",
    "version": 3
   },
   "file_extension": ".py",
   "mimetype": "text/x-python",
   "name": "python",
   "nbconvert_exporter": "python",
   "pygments_lexer": "ipython3",
   "version": "3.11.9"
  }
 },
 "nbformat": 4,
 "nbformat_minor": 4
}
